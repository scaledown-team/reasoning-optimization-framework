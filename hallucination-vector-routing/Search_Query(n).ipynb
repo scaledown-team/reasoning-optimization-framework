import requests 

def getting_search_queries_from_llm(user_question , n=3):
  """calls the scale down API with Gemini-2.5 to get a list of search queries."""
  scaledown_API_URL = "API_URL"
  payload = {
      "model":"gemini-2.5-flash",
      "prompt":f"Create a list of {n} queries that would help answer:'{user_question}'",
      "n" : n
  }
  headers = {"Authorization" : "YOUR_API_KEY_HERE"}
  response = requests.post(scaledown_API_URL , json=payload , headers = headers)
  if response.status_code == 200:
    return response.json()["queries"]
  else:
    print("Error from Scaledown API!" , response.text)
    return[]
  

def fetch_from_web_results(query):
    """
    Uses DuckDuckGo API to search the web.
    """
    url = f"https://api.duckduckgo.com/?q={query}&format=json"
    resp = requests.get(url)
    if resp.status_code == 200:
        data = resp.json()
        answer = data.get("AbstractText", "")
        if not answer:
            topics = data.get("RelatedTopics", [])
            if topics:
                answer = topics[0].get("Text", "")
        return answer
    else:
        return ""


def run_internet_tool(user_question, n_queries=3):
    search_queries = getting_search_queries_from_llm(user_question, n=n_queries)
    print("Search queries generated:", search_queries)

    result_chunks = []
    for q in search_queries:
        result = fetch_from_web_results(q)
        if result:
            result_chunks.append(result)

    combined = "\n\n".join(result_chunks)
    return combined if combined else "Sorry, no information found."

if __name__ == "__main__":
    question = input("Ask your question: ")
    answer = run_internet_tool(question)
    print("\n---------- Your Answers ------------\n")
    print(answer)
